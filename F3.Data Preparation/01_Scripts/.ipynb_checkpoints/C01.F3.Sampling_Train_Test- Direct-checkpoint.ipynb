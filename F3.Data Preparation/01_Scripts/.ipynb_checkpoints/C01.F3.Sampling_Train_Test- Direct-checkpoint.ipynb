{
 "cells": [
  {
   "cell_type": "markdown",
   "metadata": {},
   "source": [
    "## C01.F3. Sampling Train and Test. Direct dataset"
   ]
  },
  {
   "cell_type": "code",
   "execution_count": 1,
   "metadata": {},
   "outputs": [
    {
     "name": "stdout",
     "output_type": "stream",
     "text": [
      "Once deleted, variables cannot be recovered. Proceed (y/[n])? y\n",
      "Don't know how to reset  (), please run `%reset?` for details\n"
     ]
    }
   ],
   "source": [
    "reset()"
   ]
  },
  {
   "cell_type": "code",
   "execution_count": 2,
   "metadata": {},
   "outputs": [],
   "source": [
    "# Import libraries \n",
    "import pandas as pd\n",
    "import numpy as np\n",
    "import time \n",
    "import os\n",
    "import sys\n",
    "\n",
    "t1 = time.time()"
   ]
  },
  {
   "cell_type": "code",
   "execution_count": 3,
   "metadata": {},
   "outputs": [],
   "source": [
    "# Define INPUT and OUTPUT files\n",
    "INPUT_DATA = '../../F2.Data Understanding/02_Data/01_TT_Sales_Direct_and_Invest_10d_by_brand.csv'\n",
    "OUTPUT_TRAIN = '../02_Data/Direct_sampled_train.csv'\n",
    "OUTPUT_TEST = '../02_Data/Direct_sampled_test.csv'"
   ]
  },
  {
   "cell_type": "code",
   "execution_count": 4,
   "metadata": {},
   "outputs": [],
   "source": [
    "# Read data and resetting the indexes\n",
    "data = pd.read_csv(INPUT_DATA,sep='|').reset_index(drop=True)"
   ]
  },
  {
   "cell_type": "markdown",
   "metadata": {},
   "source": [
    "#### Given goal is to predict sales of customers for whom we have no Target data, the selection of train and test is done by choosing random customers, instead of random transactions."
   ]
  },
  {
   "cell_type": "code",
   "execution_count": 5,
   "metadata": {},
   "outputs": [],
   "source": [
    "# Getting unique customers\n",
    "customers = data['CUSTOMER_ID'].drop_duplicates().reset_index(drop=True)"
   ]
  },
  {
   "cell_type": "code",
   "execution_count": 6,
   "metadata": {},
   "outputs": [],
   "source": [
    "# Shuffle customers\n",
    "np.random.seed(0)\n",
    "index = np.random.permutation(len(customers))\n",
    "customers = customers.loc[index].reset_index(drop=True)"
   ]
  },
  {
   "cell_type": "code",
   "execution_count": 7,
   "metadata": {},
   "outputs": [],
   "source": [
    "# Separate train and test customers by ratio\n",
    "ratio = 0.8\n",
    "train = customers[:int(np.round(len(customers)*ratio))]\n",
    "test = customers[int(np.round(len(customers)*ratio)):]"
   ]
  },
  {
   "cell_type": "code",
   "execution_count": 8,
   "metadata": {},
   "outputs": [
    {
     "data": {
      "text/plain": [
       "0        3040540\n",
       "1       13030424\n",
       "2       20001103\n",
       "3       18000828\n",
       "4       44000388\n",
       "          ...   \n",
       "5480     5000369\n",
       "5481    41000985\n",
       "5482    47000500\n",
       "5483    27120989\n",
       "5484    28100063\n",
       "Name: CUSTOMER_ID, Length: 5485, dtype: int64"
      ]
     },
     "execution_count": 8,
     "metadata": {},
     "output_type": "execute_result"
    }
   ],
   "source": [
    "train"
   ]
  },
  {
   "cell_type": "code",
   "execution_count": 9,
   "metadata": {},
   "outputs": [
    {
     "data": {
      "text/plain": [
       "5485     3040052\n",
       "5486    33060104\n",
       "5487    14050264\n",
       "5488     8010100\n",
       "5489    13010434\n",
       "          ...   \n",
       "6851    41060039\n",
       "6852    24020885\n",
       "6853     8060659\n",
       "6854    31001779\n",
       "6855     8010027\n",
       "Name: CUSTOMER_ID, Length: 1371, dtype: int64"
      ]
     },
     "execution_count": 9,
     "metadata": {},
     "output_type": "execute_result"
    }
   ],
   "source": [
    "test"
   ]
  },
  {
   "cell_type": "code",
   "execution_count": 10,
   "metadata": {},
   "outputs": [],
   "source": [
    "# Obtain the indexes of the dataset where the customers are located\n",
    "index_train = data['CUSTOMER_ID'].isin(train)\n",
    "index_test = data['CUSTOMER_ID'].isin(test)"
   ]
  },
  {
   "cell_type": "code",
   "execution_count": null,
   "metadata": {},
   "outputs": [],
   "source": [
    "# Write to file train and test data\n",
    "X_train = data[index_train]\n",
    "X_test = data[index_test]\n",
    "\n",
    "X_train.to_csv(OUTPUT_TRAIN, sep='|', index=False, mode='w')\n",
    "X_test.to_csv(OUTPUT_TEST, sep='|', index=False, mode='w')"
   ]
  },
  {
   "cell_type": "code",
   "execution_count": null,
   "metadata": {},
   "outputs": [],
   "source": [
    "t2 = time.time()\n",
    "print (\"Time to execute script:\",str(round((t2-t1)/3600,2)), \"h\")"
   ]
  },
  {
   "cell_type": "code",
   "execution_count": null,
   "metadata": {},
   "outputs": [],
   "source": []
  }
 ],
 "metadata": {
  "kernelspec": {
   "display_name": "Python 3",
   "language": "python",
   "name": "python3"
  },
  "language_info": {
   "codemirror_mode": {
    "name": "ipython",
    "version": 3
   },
   "file_extension": ".py",
   "mimetype": "text/x-python",
   "name": "python",
   "nbconvert_exporter": "python",
   "pygments_lexer": "ipython3",
   "version": "3.7.4"
  }
 },
 "nbformat": 4,
 "nbformat_minor": 2
}
