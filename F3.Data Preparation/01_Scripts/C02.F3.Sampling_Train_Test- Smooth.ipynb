{
 "cells": [
  {
   "cell_type": "markdown",
   "metadata": {},
   "source": [
    "## C02.F3. Sampling Train and Test. Smoothed dataset"
   ]
  },
  {
   "cell_type": "code",
   "execution_count": 2,
   "metadata": {},
   "outputs": [
    {
     "name": "stdout",
     "output_type": "stream",
     "text": [
      "Once deleted, variables cannot be recovered. Proceed (y/[n])? y\n",
      "Don't know how to reset  (), please run `%reset?` for details\n"
     ]
    }
   ],
   "source": [
    "reset()"
   ]
  },
  {
   "cell_type": "code",
   "execution_count": 3,
   "metadata": {},
   "outputs": [],
   "source": [
    "# Import libraries \n",
    "import pandas as pd\n",
    "import numpy as np\n",
    "import time \n",
    "import os\n",
    "import sys\n",
    "\n",
    "t1 = time.time()"
   ]
  },
  {
   "cell_type": "code",
   "execution_count": 10,
   "metadata": {},
   "outputs": [],
   "source": [
    "# Define INPUT and OUTPUT files\n",
    "INPUT_DATA = '../../F2.Data Understanding/02_Data/01_TT_Sales_and_Invest_10d_by_brand.csv'\n",
    "OUTPUT_TRAIN = '../02_Data/sampled_train.csv'\n",
    "OUTPUT_TEST = '../02_Data/sampled_test.csv'"
   ]
  },
  {
   "cell_type": "code",
   "execution_count": 11,
   "metadata": {},
   "outputs": [],
   "source": [
    "# Read data and resetting the indexes\n",
    "data = pd.read_csv(INPUT_DATA,sep='|').reset_index(drop=True)"
   ]
  },
  {
   "cell_type": "markdown",
   "metadata": {},
   "source": [
    "### Given goal is to predict sales of customers for whom we have no Target data, the selection of train and test is done by choosing random customers, instead of random transactions."
   ]
  },
  {
   "cell_type": "code",
   "execution_count": 12,
   "metadata": {},
   "outputs": [],
   "source": [
    "# Getting unique customers\n",
    "customers = data['CUSTOMER_ID'].drop_duplicates().reset_index(drop=True)"
   ]
  },
  {
   "cell_type": "code",
   "execution_count": 13,
   "metadata": {},
   "outputs": [],
   "source": [
    "# Shuffle customers\n",
    "np.random.seed(0)\n",
    "index = np.random.permutation(len(customers))\n",
    "customers = customers.loc[index].reset_index(drop=True)"
   ]
  },
  {
   "cell_type": "code",
   "execution_count": 14,
   "metadata": {},
   "outputs": [],
   "source": [
    "# Separate train and test customers by ratio\n",
    "ratio = 0.8\n",
    "train = customers[:int(np.round(len(customers)*ratio))]\n",
    "test = customers[int(np.round(len(customers)*ratio)):]"
   ]
  },
  {
   "cell_type": "code",
   "execution_count": 15,
   "metadata": {},
   "outputs": [],
   "source": [
    "# Obtain the indexes of the dataset where the customers are located\n",
    "index_train = data['CUSTOMER_ID'].isin(train)\n",
    "index_test = data['CUSTOMER_ID'].isin(test)"
   ]
  },
  {
   "cell_type": "code",
   "execution_count": 16,
   "metadata": {},
   "outputs": [],
   "source": [
    "# Write to file train and test data\n",
    "X_train = data[index_train]\n",
    "X_test = data[index_test]\n",
    "\n",
    "X_train.to_csv(OUTPUT_TRAIN, sep='|', index=False, mode='w')\n",
    "X_test.to_csv(OUTPUT_TEST, sep='|', index=False, mode='w')"
   ]
  },
  {
   "cell_type": "code",
   "execution_count": 17,
   "metadata": {},
   "outputs": [
    {
     "name": "stdout",
     "output_type": "stream",
     "text": [
      "Time to execute script: 0.14 h\n"
     ]
    }
   ],
   "source": [
    "t2 = time.time()\n",
    "print (\"Time to execute script:\",str(round((t2-t1)/3600,2)), \"h\")"
   ]
  },
  {
   "cell_type": "code",
   "execution_count": null,
   "metadata": {},
   "outputs": [],
   "source": []
  }
 ],
 "metadata": {
  "kernelspec": {
   "display_name": "Python 3",
   "language": "python",
   "name": "python3"
  },
  "language_info": {
   "codemirror_mode": {
    "name": "ipython",
    "version": 3
   },
   "file_extension": ".py",
   "mimetype": "text/x-python",
   "name": "python",
   "nbconvert_exporter": "python",
   "pygments_lexer": "ipython3",
   "version": "3.7.4"
  }
 },
 "nbformat": 4,
 "nbformat_minor": 2
}
