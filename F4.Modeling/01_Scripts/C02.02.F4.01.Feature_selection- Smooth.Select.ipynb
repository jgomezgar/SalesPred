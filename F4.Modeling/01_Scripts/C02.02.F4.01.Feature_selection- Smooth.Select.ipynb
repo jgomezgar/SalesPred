{
 "cells": [
  {
   "cell_type": "markdown",
   "metadata": {},
   "source": [
    "## C02.02.F4.01. Feature Selection. Smoothed dataset.  Feature Selection"
   ]
  },
  {
   "cell_type": "markdown",
   "metadata": {},
   "source": [
    "# Script for selecting the best features to train the model.\n",
    "\n",
    "It is necessary to remove those features that will not be relevant to the \n",
    "training of the model and thus improve performance. First the correlation \n",
    "matrix of the independent variables is obtained and those with a high \n",
    "percentage of correlation are eliminated. Then, using the RFECV \n",
    "method, the most significant ones are chosen."
   ]
  },
  {
   "cell_type": "code",
   "execution_count": 17,
   "metadata": {},
   "outputs": [],
   "source": [
    "# Import libraries \n",
    "import pandas as pd\n",
    "import numpy as np\n",
    "from sklearn.feature_selection import RFECV\n",
    "from sklearn.model_selection import  GroupKFold \n",
    "import lightgbm as ltb\n",
    "import seaborn as sns\n",
    "from sklearn.preprocessing import StandardScaler\n",
    "import time \n",
    "import os\n",
    "import sys\n",
    "\n",
    "t1 = time.time()"
   ]
  },
  {
   "cell_type": "code",
   "execution_count": 18,
   "metadata": {},
   "outputs": [],
   "source": [
    "# Define INPUT and OUTPUT files\n",
    "INPUT = '../../F3.Data Preparation/02_Data/sampled_train.csv'\n",
    "\n",
    "OUTPUT_FEATS = '../02_Data/features.npy'\n",
    "OUTPUT = '../02_Data/prepared_train.csv'"
   ]
  },
  {
   "cell_type": "code",
   "execution_count": 19,
   "metadata": {},
   "outputs": [],
   "source": [
    "# Read data resetting the indexes\n",
    "data = pd.read_csv(INPUT, sep='|').reset_index(drop=True)"
   ]
  },
  {
   "cell_type": "code",
   "execution_count": 20,
   "metadata": {},
   "outputs": [],
   "source": [
    "# Store in array all unnecessary    \n",
    "to_delete = ['CUSTOMER_ID', 'BRANDFAMILY_ID', 'R', 'CAL_DATE', 'CAL_DATE_end','SO_ITG_WSE', 'SO_MRKT_WSE','QUOTA_SELLOUT']\n",
    "\n",
    "   \n",
    "# Create data copy by removing unnecessary columns in X and the sellout field in y\n",
    "X = data.drop(to_delete, axis=1)\n",
    "y = data['QUOTA_SELLOUT']"
   ]
  },
  {
   "cell_type": "code",
   "execution_count": 21,
   "metadata": {},
   "outputs": [
    {
     "data": {
      "text/plain": [
       "<matplotlib.axes._subplots.AxesSubplot at 0x1a075ed59c8>"
      ]
     },
     "execution_count": 21,
     "metadata": {},
     "output_type": "execute_result"
    },
    {
     "data": {
      "image/png": "[encoded data removed]",
      "text/plain": [
       "<Figure size 432x288 with 2 Axes>"
      ]
     },
     "metadata": {
      "needs_background": "light"
     },
     "output_type": "display_data"
    }
   ],
   "source": [
    "# Get correlations between independent variables and show heatmap\n",
    "correlations = X.corr()\n",
    "sns.heatmap(correlations)"
   ]
  },
  {
   "cell_type": "markdown",
   "metadata": {},
   "source": [
    "##### Large number of strongly correlated features."
   ]
  },
  {
   "cell_type": "code",
   "execution_count": 22,
   "metadata": {},
   "outputs": [],
   "source": [
    "# Eliminate those independent variables that have a greater than 95% correlation between them \n",
    "threshold = 0.95\n",
    "ignored_fields = []\n",
    "for c in correlations.iterrows():\n",
    "    sort = c[1].sort_values(ascending=False)\n",
    "    if sort[1] > threshold or sort[1] < -threshold:\n",
    "        correlations = correlations.drop(c[0], axis = 0)\n",
    "        correlations = correlations.drop(c[0], axis = 1)\n",
    "        ignored_fields.append(c[0])\n",
    "\n",
    "X = X.drop(ignored_fields, axis=1)"
   ]
  },
  {
   "cell_type": "code",
   "execution_count": 23,
   "metadata": {},
   "outputs": [],
   "source": [
    "# Apply a data scaling with StandardScaler on the data\n",
    "columns = list(X.columns.values)\n",
    "sc_X = StandardScaler()\n",
    "X = sc_X.fit_transform(X)"
   ]
  },
  {
   "cell_type": "code",
   "execution_count": 24,
   "metadata": {},
   "outputs": [],
   "source": [
    "# Create peer groups of customers for cross-validation\n",
    "groups = data.CUSTOMER_ID\n",
    "group_KFold = GroupKFold(n_splits=5)"
   ]
  },
  {
   "cell_type": "code",
   "execution_count": 25,
   "metadata": {},
   "outputs": [
    {
     "data": {
      "text/plain": [
       "RFECV(cv=<generator object _BaseKFold.split at 0x000001A074E4E248>,\n",
       "      estimator=LGBMRegressor(boosting_type='gbdt', class_weight=None,\n",
       "                              colsample_bytree=1.0, importance_type='split',\n",
       "                              learning_rate=0.1, max_depth=-1,\n",
       "                              min_child_samples=20, min_child_weight=0.001,\n",
       "                              min_split_gain=0.0, n_estimators=100, n_jobs=-1,\n",
       "                              num_leaves=31, objective=None, random_state=None,\n",
       "                              reg_alpha=0.0, reg_lambda=0.0, silent='warn',\n",
       "                              subsample=1.0, subsample_for_bin=200000,\n",
       "                              subsample_freq=0),\n",
       "      min_features_to_select=30, n_jobs=4, scoring=None, step=5, verbose=1)"
      ]
     },
     "execution_count": 25,
     "metadata": {},
     "output_type": "execute_result"
    }
   ],
   "source": [
    "# Define model and fit RFECV (recursive feature elimination) with cross-validation\n",
    "# to get the feature ranking\n",
    "estimator = ltb.LGBMRegressor()\n",
    "rfe = RFECV(estimator=estimator, min_features_to_select=30, step=5, cv=group_KFold.split(X, y, groups), n_jobs=4, verbose=1)\n",
    "rfe.fit(X, y)"
   ]
  },
  {
   "cell_type": "code",
   "execution_count": 26,
   "metadata": {},
   "outputs": [],
   "source": [
    "# Get best features and save to file\n",
    "features = rfe.get_support(indices = True) \n",
    "best_features = list(np.array(columns)[features])\n",
    "\n",
    "X = data[best_features+['CUSTOMER_ID','BRANDFAMILY_ID','CAL_DATE','CAL_DATE_end','QUOTA_SELLOUT']]\n",
    "\n",
    "np.save(OUTPUT_FEATS, list(best_features))"
   ]
  },
  {
   "cell_type": "code",
   "execution_count": 27,
   "metadata": {},
   "outputs": [],
   "source": [
    "# The data is written to a file\n",
    "X.to_csv(OUTPUT, sep='|', index=False, mode='w')"
   ]
  },
  {
   "cell_type": "code",
   "execution_count": 28,
   "metadata": {},
   "outputs": [
    {
     "name": "stdout",
     "output_type": "stream",
     "text": [
      "Time to execute script: 0.1 h\n"
     ]
    }
   ],
   "source": [
    "t2 = time.time()\n",
    "print (\"Time to execute script:\",str(round((t2-t1)/3600,2)), \"h\")"
   ]
  },
  {
   "cell_type": "code",
   "execution_count": null,
   "metadata": {},
   "outputs": [],
   "source": []
  }
 ],
 "metadata": {
  "kernelspec": {
   "display_name": "Python 3",
   "language": "python",
   "name": "python3"
  },
  "language_info": {
   "codemirror_mode": {
    "name": "ipython",
    "version": 3
   },
   "file_extension": ".py",
   "mimetype": "text/x-python",
   "name": "python",
   "nbconvert_exporter": "python",
   "pygments_lexer": "ipython3",
   "version": "3.7.4"
  }
 },
 "nbformat": 4,
 "nbformat_minor": 2
}
